{
 "cells": [
  {
   "cell_type": "markdown",
   "metadata": {},
   "source": [
    "<h1>An Introduction to Fuzzy C-means</h1>\n",
    "<br>\n",
    "<code>Fuzzy C-Means</code> is <i>soft-clustering algorithm</i>. This algorithm has a similar functionality and objective as the standard K-means but it differencess itself by allowing the management of membership degrees (corresponding to probabilities), these probabilities are the similarity of a sample with all cluster centroids, this is why <code>Fuzzy C-Means</code> is considered a <i>soft-clustering algorithm</i>. This approach allows the membership vectors be processed in a more complex pipeline, for classifying similarites between samples."
   ]
  },
  {
   "cell_type": "markdown",
   "metadata": {},
   "source": [
    "Let's imagine that we have an unlabeled dataset,  if we split our dataset into labeled partitions, a hard clustering approach would assign a label to each sample, while a <b>fuzzy (or soft)</b> approach would allow the management of a <i>membership degree or similarity degree</i> $w_{ij}$, which expresses how strong the relationship is between a sample $x_i$ and cluster $c_j$.\n",
    "<br>\n",
    "<br>\n",
    "When we employed <i>Fuzzy Logic</i>, asymmetric sets becomes possible to be defined, these set can not be represented with a continuous functions. <code>Fuzzy C-Means</code> allows more flexibility and increases the ability to adapt to more complex geometries or sets. Let's see a distribution graph as an example of <i>fuzzy sets</i>:"
   ]
  },
  {
   "cell_type": "markdown",
   "metadata": {},
   "source": [
    "<div>\n",
    "    <img src='images/0.png'>\n",
    "</div>"
   ]
  },
  {
   "cell_type": "markdown",
   "metadata": {},
   "source": [
    "The above distribution graph is a <i>fuzzy set</i> that represents the seniority level of an employee according to years of experience."
   ]
  },
  {
   "cell_type": "markdown",
   "metadata": {},
   "source": [
    "When we are dealing with unsupervised problemas we usually want to cluster the entire population into $n$ groups, in the case of the above distribution graph, the population was clustered into three level employee groups: \n",
    "<ul>\n",
    "    <li>Junior</li>\n",
    "    <li>Middle</li>\n",
    "    <li>Senior</li>\n",
    "</ul>\n",
    "Therefore three <i>fuzzy sets</i> were designed. According the graph we can see that a young employee is devoted and quickly reach the Junior level after an initial apprenticeship period. As usual the opportunity and ability to work on complex problems brings them the change to develop skills that are fundamental to become Middle levels employees. Then almost 10 years later, the employee can begin to consider themselves as a Senior apprentice and after about 25 years, their experience is enough to qualify them as a full Senior until the end of their career."
   ]
  },
  {
   "cell_type": "markdown",
   "metadata": {},
   "source": [
    "Let's do some <i>Fuzzy Logic Thinking</i>, the employee Carl who has 7 years of experience with employee Matt who has 15 years of experience. Carl is about 25% Junior <i>(decreasing even if with a minimum slope)</i>, 25% Middle <i>(reaching its climax)</i> and almost 0% Senior <i>(increasing)</i>. Matt is 0% Junior <i>(ending plateau)</i>, about 0% Middle <i>(decreasing)</i> and close to 100% Senior <i>(ending plateau)</i>. In both cases, the values are not normalized so always sum up to 1 because we are more interested in showing the process and the proportions."
   ]
  },
  {
   "cell_type": "markdown",
   "metadata": {},
   "source": [
    "The fuzziness level is lower in extreme cases, while it is higher when two sets intersect. For example, at about 15%, the Middle and Senior are about 50%. As we're going to discuss, <b>it's useful to avoid a very high fuzziness level when clustering a dataset because it can lead to a lack of precision as the boundaries fade out, becoming completely fuzzy.</b>"
   ]
  },
  {
   "cell_type": "markdown",
   "metadata": {},
   "source": [
    "<code>Fuzzy C-means</code> is a generalization of standard <code>K-means</code>, with a soft assignment and more flexible clusters. The dataset to cluster (containing $M$ samples) is represented by:\n",
    "<br>\n",
    "<div>\n",
    "    <img src='images/1.png'>\n",
    "</div>"
   ]
  },
  {
   "cell_type": "markdown",
   "metadata": {},
   "source": [
    "If we assume we have $k$ clusters, it's necessary to define a matrix $W \\in \\mathbb{R}^{M\\times k}$ containing the membership degrees for each sample:\n",
    "<br>\n",
    "<br>\n",
    "<div>\n",
    "    <img src='images/2.png'>\n",
    "</div>"
   ]
  },
  {
   "cell_type": "markdown",
   "metadata": {},
   "source": [
    "Each degree $w_{ij}\\in (0, 1) $ and all rows must be normalized so that they always sum up to 1. In this way, the membership degrees can be considered as probabilities (with the same semantics) and it's easier to make decisions with a prediction result. If a hard assignment is needed, the winning cluster will be selected by applying the argmax function. However, it's good practice to employ soft clustering only when it's possible to manage the vectorial output. For example, the probabilities/membership degrees can be fed into a classifier in order to yield more complex predictions.\n",
    "<br>\n",
    "<br>\n",
    "As with K-means, the problem can be expressed as the minimization of generalized inertia:\n",
    "<br>\n",
    "<br>\n",
    "<div>\n",
    "    <img src='images/3.png'>\n",
    "</div>"
   ]
  },
  {
   "cell_type": "markdown",
   "metadata": {},
   "source": [
    "The constant $m \\; (m > 1)$ is an exponent employed to re-weight the membership degrees. A value very close to $1$ doesn't affect the actual values. Greater $m$ values reduce their magnitude. The same parameter is also used when recomputing the centroids and the new membership degrees and can lead to a different clustering result.\n",
    "<br>\n",
    "<br>\n",
    "It's rather difficult to define a globally acceptable value; therefore, a good practice is to start with an average $m$ (for example, $1.5$) and perform a grid search (it's possible to sample from a Gaussian or uniform distribution) until the desired accuracy has been achieved."
   ]
  },
  {
   "cell_type": "markdown",
   "metadata": {},
   "source": [
    "Minimizing the previous expression is even more difficult than with standard inertia; after a random initialization, the algorithm proceeds, alternating two steps in order to determine the centroids and recomputing the membership degrees to maximize the internal cohesion. The centroids are determined by a weighted average:\n",
    "<br>\n",
    "<br>\n",
    "<div>\n",
    "    <img src='images/4.png'>\n",
    "</div>"
   ]
  },
  {
   "cell_type": "markdown",
   "metadata": {},
   "source": [
    "Contrary to <code>K-means</code>, the sum is not limited to the points belonging to a specific cluster because the weight factor will force the farthest points ($w_{ij} \\thickapprox 0$) to produce a contribution close to $0$. At the same time, as this is a <i>soft-clustering algorithm</i>, no exclusions are imposed, to allow a sample to belong to any number of clusters with different membership degrees. Once the centroids have been recomputed, the membership degrees must be updated using this formula:\n",
    "<br>\n",
    "<br>\n",
    "<div>\n",
    "    <img src='images/5.png'>\n",
    "</div>"
   ]
  },
  {
   "cell_type": "markdown",
   "metadata": {},
   "source": [
    "This function behaves like a similarity. In fact, when sample $x_i$ is very close to centroid $u_j$  <i>(and relatively far from $u_p$ with $p \\neq j$)</i>, the denominator becomes small and $w_{ij}$ increases. The exponent $m$ directly influences the fuzzy partitioning, because when  $m \\thickapprox 1$<sup>$(m > 1)$</sup>, the denominator is a sum of quasi-squared terms and the closest centroid can dominate the sum, yielding to a higher preference for a specific cluster. When $m >> 1$, all the terms in the sum tend to $1$, producing a flatter weight distribution with no well-defined preference."
   ]
  },
  {
   "cell_type": "markdown",
   "metadata": {},
   "source": [
    "It's important to understand that, even when working with soft clustering, a fuzziness excess leads to inaccurate decisions because there are no factors that push a sample to clearly belong to a specific cluster. This means that the problem is either ill-posed or, for example, the number of expected clusters is too high and doesn't represent the real underlying data structure. A good way to measure how much this algorithm is similar to a hard-clustering approach (such as <code>K-means</code>) is provided by the normalized Dunn's partitioning coefficient:\n",
    "<br>\n",
    "<br>\n",
    "<div>\n",
    "    <img src='images/6.png'>\n",
    "</div>"
   ]
  },
  {
   "cell_type": "markdown",
   "metadata": {},
   "source": [
    "When $P_c$ is bounded between $0$ and $1$, when it's close to $0$, it means that the membership degrees have a flat distribution and the level of fuzziness is the highest possible. On the other hand, if it's close to 1, each row of $W$ has a single dominant value, while all the others are negligible. This scenario resembles a hard-clustering approach. <i>Larger $P_c$ values are normally preferable because, even without allowing a degree of fuzziness, they allow the making of more precise decisions.</i>"
   ]
  },
  {
   "cell_type": "markdown",
   "metadata": {},
   "source": [
    "Considering the previous example, $P_c$ tends to $1$ when the sets don't intersect, while it becomes $0$ (complete fuzziness) if, for example, the three seniority levels are chosen to be identical and overlapping. Of course, we are interested in avoiding such extreme scenarios by limiting the number of borderline cases. A grid search can be performed by analyzing different numbers of clusters and $m$ values (in the example, we're going to do this with the MNIST handwritten digit dataset).\n",
    "<br>\n",
    "<br>\n",
    "<i>A reasonable rule of thumb is to accept $P_c$ values higher than 0.8, but in some cases that can be impossible.</i> If we are sure that the problem is well-posed, the best approach is to choose the configuration that maximizes $P_c$, considering, however, that a final value of less than $0.3 - 0.5$ will lead to a very high level of uncertainty because the clusters will overlap extremely."
   ]
  },
  {
   "cell_type": "markdown",
   "metadata": {},
   "source": [
    "The complete <code>Fuzzy C-means</code> algorithm is:\n",
    "<ol>\n",
    "    <li>Set a maximum number of iterations $N_{max}$</li>\n",
    "    <li>Set a tolerance $Thr$</li>\n",
    "    <li>Set the value of $k$ (the number of expected clusters)</li>\n",
    "    <li>Initialize the matrix $W$<sup>$(0)$</sup> with random values and normalize each row, dividing it by its sum</li>\n",
    "    <li>Set $N = 0$</li>\n",
    "    <li>While $N < N_{max}$ or $\\Arrowvert$ $W$<sup>$(t)$</sup> $-$ $W$<sup>$(t-1)$</sup>$\\Arrowvert > Thr$\n",
    "        <ol>\n",
    "            <li>$N = N + 1$</li>\n",
    "            <li>$For j = 1\\;to\\;k:$\n",
    "                <ol>\n",
    "                    <li>Compute the centroid vectors $u_j$</li>\n",
    "                </ol>\n",
    "            </li>\n",
    "            <li>Recompute the weight matrix $W$<sup>$(t)$</sup></li>\n",
    "            <li>Normalize the rows of $W$<sup>$(t)$</sup></li>\n",
    "        </ol>\n",
    "    </li>\n",
    "    \n",
    "</ol>"
   ]
  },
  {
   "cell_type": "markdown",
   "metadata": {},
   "source": [
    "After the theoretical discussion, we can now analyze a concrete example of this algorithm using the <code>scikit-fuzzy</code> a <code>Python</code> package, comparing the results with a classical hard-clustering approach."
   ]
  },
  {
   "cell_type": "markdown",
   "metadata": {},
   "source": [
    "<h2>Fuzzy C-means with <code>scikit-fuzzy</code></h2>\n",
    "<br>\n",
    "<code>scikit-fuzzy</code> is a <code>Python</code> package based on <code>scipy</code>, it can be installed using the next command:"
   ]
  },
  {
   "cell_type": "code",
   "execution_count": 1,
   "metadata": {},
   "outputs": [
    {
     "name": "stdout",
     "output_type": "stream",
     "text": [
      "Requirement already up-to-date: scikit-fuzzy in c:\\users\\kleye\\anaconda3\\envs\\ai\\lib\\site-packages (0.4.2)\n",
      "Requirement already satisfied, skipping upgrade: numpy>=1.6.0 in c:\\users\\kleye\\appdata\\roaming\\python\\python36\\site-packages (from scikit-fuzzy) (1.18.1)\n",
      "Requirement already satisfied, skipping upgrade: scipy>=0.9.0 in c:\\users\\kleye\\anaconda3\\envs\\ai\\lib\\site-packages (from scikit-fuzzy) (1.4.1)\n",
      "Requirement already satisfied, skipping upgrade: networkx>=1.9.0 in c:\\users\\kleye\\anaconda3\\envs\\ai\\lib\\site-packages (from scikit-fuzzy) (2.4)\n",
      "Requirement already satisfied, skipping upgrade: decorator>=4.3.0 in c:\\users\\kleye\\anaconda3\\envs\\ai\\lib\\site-packages (from networkx>=1.9.0->scikit-fuzzy) (4.4.0)\n"
     ]
    }
   ],
   "source": [
    "!pip install -U scikit-fuzzy"
   ]
  },
  {
   "cell_type": "markdown",
   "metadata": {},
   "source": [
    "The official documentation of <code>scikit-fuzzy</code> is <a href='https://pythonhosted.org/scikit-fuzzy/'>here</a>.\n",
    "<br>\n",
    "<br>\n",
    "The example we are going to use to understand better and implement <code>Fuzzy C-Means</code> will be worked with the famous MNIST dataset.\n",
    "<br>\n",
    "<br>\n",
    "<code>scikit-fuzzy</code> implements <code>cmeans</code> from the <code>skfuzzy.cluster</code> package."
   ]
  },
  {
   "cell_type": "markdown",
   "metadata": {},
   "source": [
    "<h2>Import Libraries, Packages and Other Utilities</h2>"
   ]
  },
  {
   "cell_type": "code",
   "execution_count": 9,
   "metadata": {},
   "outputs": [
    {
     "name": "stderr",
     "output_type": "stream",
     "text": [
      "c:\\users\\kleye\\anaconda3\\envs\\ai\\lib\\site-packages\\statsmodels\\tools\\_testing.py:19: FutureWarning:\n",
      "\n",
      "pandas.util.testing is deprecated. Use the functions in the public API at pandas.testing instead.\n",
      "\n"
     ]
    }
   ],
   "source": [
    "import sys\n",
    "import arff\n",
    "import os\n",
    "import random\n",
    "import pandas as pd\n",
    "import numpy as np\n",
    "import seaborn as sns\n",
    "import plotly.graph_objects as go\n",
    "import matplotlib.pyplot as plt\n",
    "from scipy.io import arff\n",
    "from sklearn.utils import class_weight\n",
    "from sklearn.feature_selection import mutual_info_classif\n",
    "from sklearn.model_selection import train_test_split, KFold, ParameterGrid, LeaveOneOut\n",
    "from sklearn.metrics import classification_report, f1_score, accuracy_score\n",
    "from plotly.subplots import make_subplots\n",
    "from sklearn.svm import SVC\n",
    "from tensorflow.keras.models import Sequential\n",
    "from tensorflow.keras.layers import Dense\n",
    "from tensorflow.keras.optimizers import Adam\n",
    "import tensorflow.keras.backend as K\n",
    "from skfuzzy.cluster import cmeans, cmeans_predict\n",
    "from sklearn.datasets import load_digits"
   ]
  },
  {
   "cell_type": "markdown",
   "metadata": {},
   "source": [
    "<h2>Set Seed for Reproducible Results</h2>"
   ]
  },
  {
   "cell_type": "code",
   "execution_count": 3,
   "metadata": {},
   "outputs": [],
   "source": [
    "# Set a seed value\n",
    "seed_value= 42 \n",
    "# Set 'PYTHONHASHSEED environment variable at a fixed value\n",
    "os.environ['PYTHONHASHSEED']=str(seed_value)\n",
    "# 2. Set 'python' built-in pseudo-random generator at a fixed value\n",
    "random.seed(seed_value)\n",
    "# 3. Set 'numpy' pseudo-random generator at a fixed value\n",
    "np.random.seed(seed_value)"
   ]
  },
  {
   "cell_type": "markdown",
   "metadata": {},
   "source": [
    "Let's load the dataset into <code>dataset</code>"
   ]
  },
  {
   "cell_type": "code",
   "execution_count": 4,
   "metadata": {},
   "outputs": [],
   "source": [
    "dataset = load_digits()"
   ]
  },
  {
   "cell_type": "markdown",
   "metadata": {},
   "source": [
    "We are goign to create the train set, this will be hold in <code>X_train</code> and we \"normalize\" the data by dividing the samples by the largest sample from the set."
   ]
  },
  {
   "cell_type": "code",
   "execution_count": 5,
   "metadata": {},
   "outputs": [],
   "source": [
    "X_train = dataset['data'] / np.max(dataset['data'])"
   ]
  },
  {
   "cell_type": "markdown",
   "metadata": {},
   "source": [
    "<h3>Performing Fuzzy C-Means</h3>\n",
    "<br>\n",
    "<br>\n",
    "<code>cmeans</code> have several parameters that will help in returning more reliable membership degrees; it also returns several value, all of these will be explained:"
   ]
  },
  {
   "cell_type": "markdown",
   "metadata": {},
   "source": [
    "<code>cmeans</code> and its parameters:\n",
    "<ul>\n",
    "    <li><code>data</code>: Data to be clustered. $N$ is the number of data sets; $S$ is the number of features within each\n",
    "        sample vector.</li>\n",
    "    <li><code>c</code>: Desired number of clusters or classes.</li>\n",
    "    <li><code>m</code>: Array exponentiation applied to the membership function <code>u_old</code> at each iteration, where \n",
    "        <code>U_new = u_old ** m</code>.</li>\n",
    "    <li><code>error</code>: Stopping criterion; stop early if the norm of <code>(u[p] - u[p-1]) &lt; error</code>, is the \n",
    "        maximum tolerance.</li>\n",
    "    <li><code>maxiter</code>: Maximum number of iterations allowed.</li>\n",
    "    <li><code>init</code>: Initial fuzzy c-partitioned matrix. If none provided, algorithm is randomly initialized.\n",
    "        <code>2d array, size (S, N)</code>.</li>\n",
    "    <li><code>seed</code>: If provided, sets random seed of <code>init</code>. No effect if <code>init</code> is provided. \n",
    "        Mainly for debug/testing purposes, which allows you to specify the random seed to be able to easily reproduce the \n",
    "        experiments.</li>\n",
    "</ul>\n",
    "<code>cmeans</code> returns the next:\n",
    "<ul>\n",
    "    <li><code>cntr</code>:Cluster centers. Data for each center along each feature provided for every cluster (of the \n",
    "        <code>c</code> requested clusters).</li>\n",
    "    <li><code>u</code>: Final fuzzy c-partitioned matrix; <i>which is the final membership degree matrix</i>.</li>\n",
    "    <li><code>u0</code>: Initial guess at fuzzy c-partitioned matrix (either provided init or random guess used if init was not \n",
    "        provided).</li>\n",
    "    <li><code>d</code>: Final Euclidian distance matrix.</li>\n",
    "    <li><code>jm</code>: Objective function history.</li>\n",
    "    <li><code>p</code>: Number of iterations run.</li>\n",
    "    <li><code>fpc</code>: Final fuzzy partition coefficient.</li>\n",
    "</ul>"
   ]
  },
  {
   "cell_type": "markdown",
   "metadata": {},
   "source": [
    "Let's start the <i>fuzzy</i> clustering!"
   ]
  },
  {
   "cell_type": "code",
   "execution_count": 69,
   "metadata": {},
   "outputs": [],
   "source": [
    "cntr, u, u0, d, jm, p, fpc = cmeans(data=X_train.T, c=10, m=1.25, error=1e-6, maxiter=10000, seed=seed_value)"
   ]
  },
  {
   "cell_type": "markdown",
   "metadata": {},
   "source": [
    "Let's see the <code>fpc</code>, <i>how apart are the clusters?</i>\n",
    "<br>\n",
    "<br>\n",
    "This value informs us that the clustering is not very far from a hard assignment, but there's still a residual fuzziness. In this particular case, such a situation may be reasonable because we know that many digit images are partially distorted, and may appear very similar to other digits (1, 7, and 9 are easily confused). This is define by the <code>m</code> parameter, it does determine the partition coefficient:"
   ]
  },
  {
   "cell_type": "code",
   "execution_count": 70,
   "metadata": {},
   "outputs": [
    {
     "name": "stdout",
     "output_type": "stream",
     "text": [
      "Partition coeffiecient: 0.6320708718192728\n"
     ]
    }
   ],
   "source": [
    "print('Partition coeffiecient: {}'.format(fpc))"
   ]
  },
  {
   "cell_type": "markdown",
   "metadata": {},
   "source": [
    "We can now display the centroids:"
   ]
  },
  {
   "cell_type": "code",
   "execution_count": 71,
   "metadata": {},
   "outputs": [
    {
     "data": {
      "image/png": "[encoded data removed]",
      "text/plain": [
       "<Figure size 720x720 with 10 Axes>"
      ]
     },
     "metadata": {},
     "output_type": "display_data"
    }
   ],
   "source": [
    "# Plot the centroids\n",
    "sns.set()\n",
    "fig, ax = plt.subplots(1, 10, figsize=(10, 10))\n",
    "\n",
    "for i in range(10):\n",
    "    c = cntr[i]\n",
    "    ax[i].matshow(c.reshape(8, 8) * 255.0, cmap='gray')\n",
    "    ax[i].set_xticks([])\n",
    "    ax[i].set_yticks([])\n",
    "\n",
    "plt.show()"
   ]
  },
  {
   "cell_type": "markdown",
   "metadata": {},
   "source": [
    "Centroids obtained by <code>Fuzzy C-Means</code>; all the different digit classes have been successfully found, but now, contrary to <code>K-means</code>, we can check the fuzziness of a problematic sample (representing a 1 with index 1):"
   ]
  },
  {
   "cell_type": "code",
   "execution_count": 73,
   "metadata": {},
   "outputs": [
    {
     "name": "stdout",
     "output_type": "stream",
     "text": [
      "Membership degrees: [0.01484762 0.00936747 0.00124938 0.01437914 0.01678198 0.01265008\n",
      " 0.00569252 0.00491095 0.87234323 0.04777762]\n"
     ]
    },
    {
     "data": {
      "image/png": "[encoded data removed]",
      "text/plain": [
       "<Figure size 1080x576 with 1 Axes>"
      ]
     },
     "metadata": {},
     "output_type": "display_data"
    }
   ],
   "source": [
    "# Membership degrees of a sample representing the digit '1'\n",
    "print('Membership degrees: {}'.format(u[:, 1]))\n",
    "\n",
    "fig, ax = plt.subplots(figsize=(15, 8))\n",
    "\n",
    "ax.plot(np.arange(10), u[:, 1], \"o-\")\n",
    "ax.set_xlabel('Cluster index', fontsize=18)\n",
    "ax.set_ylabel('Fuzzy membership', fontsize=18)\n",
    "ax.grid(True)\n",
    "\n",
    "plt.show()"
   ]
  },
  {
   "cell_type": "markdown",
   "metadata": {},
   "source": [
    "In this case, the choice of <code>m</code> has forced the algorithm to reduce the fuzziness.\n",
    "<br>\n",
    "<br>\n",
    "For performing predictions, <code>sciKit-fuzzy</code> implements the <code>cmeans_predict</code> method from the same package than <code>cmeans</code>, which requires the same parameters as <code>cmeans</code>, but instead of the number of clusters, <code>c</code> needs the final centroid array (the name of the parameter is <code>cntr_trained</code>). The function returns as a first value the corresponding membership degree matrix (the other ones are the same as cmeans). In the following cell, we repeat the prediction for the same sample digit (representing a 1):"
   ]
  },
  {
   "cell_type": "code",
   "execution_count": 81,
   "metadata": {},
   "outputs": [
    {
     "name": "stdout",
     "output_type": "stream",
     "text": [
      "Membership degrees: [[0.01484762 0.00936747 0.00124938 0.01437914 0.01678198 0.01265008\n",
      "  0.00569252 0.00491095 0.87234323 0.04777762]]\n"
     ]
    }
   ],
   "source": [
    " new_sample = np.expand_dims(X_train[1], axis=1)\n",
    "Wn, _, _, _, _, _ = cmeans_predict(new_sample, cntr_trained=cntr, m=1.25, error=1e-6, maxiter=10000, seed=1000)\n",
    "print('Membership degrees: {}'.format(Wn.T))"
   ]
  },
  {
   "cell_type": "markdown",
   "metadata": {},
   "source": [
    "Great! We now see the membership degrees predicted for the sample <code>X_train[1]</code>, these membership degrees can be considered as cluster similarities, for example the sample  <code>X_train[1]</code> has a similarity to cluster number $0$ of <b>0.01484%</b> and for cluster $8$ a similarity of <b>0.8723%</b>.\n",
    "<br>\n",
    "<h2>Conclusion</h2>\n",
    "<br>\n",
    "We have met an algorithm for unsupervised learning, which resolve its found clusters through soft-labeling, this allows us to know how a sample can be releated to other clusters, it bring a wider perspective of how we can approximate a sample, imagine the variaty of options that a recommender system done with <code>Fuzzy C-Means</code> can bring to the final user, it will have a wider range of options or how accertive a DNA sequence classifier can be become when it is done with <code>Fuzzy C-Means</code>."
   ]
  }
 ],
 "metadata": {
  "kernelspec": {
   "display_name": "Python 3",
   "language": "python",
   "name": "python3"
  },
  "language_info": {
   "codemirror_mode": {
    "name": "ipython",
    "version": 3
   },
   "file_extension": ".py",
   "mimetype": "text/x-python",
   "name": "python",
   "nbconvert_exporter": "python",
   "pygments_lexer": "ipython3",
   "version": "3.6.7"
  }
 },
 "nbformat": 4,
 "nbformat_minor": 2
}
